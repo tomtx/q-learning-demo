{
 "cells": [
  {
   "cell_type": "markdown",
   "metadata": {},
   "source": [
    "# Q-Learning with Table 🤖 🎛 🍽\n",
    "> This is a demo of Q-learning at its simplest for solving Reinforcement Learning (RL) problems. The challenge here is a frozen lake that is being solved via **table** approach for Q-learning implementation. It serves as an example code for an [introduction story into RL on Medium](https://medium.com).\n",
    "\n",
    "<img src=\"img/table-wall-e.png\" alt=\"Drawing\" style=\"width: 400px;\"/>\n",
    "\n",
    "## 1) Environment 🗺\n",
    "It is a [frozen lake by Gym OpenAI](https://gym.openai.com/envs/FrozenLake-v0/), in which an agent tries to find a safe path across a grid of slippery ice and water tiles to get the ultimate reward."
   ]
  },
  {
   "cell_type": "code",
   "execution_count": null,
   "metadata": {},
   "outputs": [],
   "source": [
    "'''\n",
    ".--------------------.\n",
    "| 🐹 | ❄️ | ❄️ | ❄️ | \n",
    "|- - - - -  - - - - -|\n",
    "| ❄️ | 🕳 | ❄️ | 🕳 |\n",
    "|- - - - -  - - - - -|\n",
    "| ❄️ | ❄️ | ❄️ | 🕳 |\n",
    "|- - - - -  - - - - -|\n",
    "| 🕳 | ❄️ | ❄️ | 🥜 |\n",
    ".--------------------.\n",
    "'''"
   ]
  },
  {
   "cell_type": "markdown",
   "metadata": {},
   "source": [
    "The environment is depicted in the picture above as a 4x4 grid world with 16 possible states. There is a hamster that tries to munch on peanuts. Its **goal is to reach those peanuts**!\n",
    "* this little fellow can choose to go one of **4 directions (actions) on the ice at each grid cell (state)**, i.e. it can go either up, down, left, or right\n",
    "* it tries to **avoid going into water holes**, which results in sinking and therefore an unsuccessful attempt\n",
    "* however, it is not that easy since there is a chance that this little creature can **randomly slip on ice and go into different grid cells** than wanted\n",
    "* the **success or failure** for solving the frozen lake is defined by this hamster getting those peanuts or sinking into the water hole, respectively\n",
    "\n",
    "## 2) Algorithm 🎰\n",
    "It is a classic Q-learning algorithm that goes through iteration steps to experience the environment. After certain amount of episodes, it ultimately finds the best state-action pairs Q(s,a) for the algorithm, the so called \"Q-values\". The Q-values represent how good it is for an agent (🐹) to be in state in terms of getting the long term reward (🥜). This algorithm has various implementations depending on which policy is chosen for taking actions or how Q-values are processed. The picture below shows an overview on the implementation of this model-free algorithm from the Temporal Difference learning (TD) method [Sutton & Barto 2017].\n",
    "\n",
    "![title](img/algo-method.png)\n",
    "> _... let's see the implementation!_ 🛠\n",
    "\n",
    "### Table 🍽\n",
    "The Q-values are stored in the **Q-table** and are updated during training of the algorithm. This table has rows representing states (s) and columns representing possible actions (a). It is initialized with some values at start and gets populated with different values as the algorithm proceeds. It ultimately reaches some optimal values for an agent to choose (higher Q-values are better), once it has learned how to solve the environment. This means that Q-values are learned after a certain amount of episodes (training steps/iterations) & can be then used to play the game (solve the environment) better than without any prior training."
   ]
  },
  {
   "cell_type": "code",
   "execution_count": null,
   "metadata": {},
   "outputs": [],
   "source": [
    "'''\n",
    "     U   D   L   R\n",
    "   .---------------.\n",
    "0  | 0 | 0 | 0 | 0 | \n",
    "   | - - - - - - - |\n",
    "1  | 0 | 0 | 0 | 0 |\n",
    "   | - - - - - - - |\n",
    "2  | 0 | 0 | 0 | 0 |\n",
    "   | - - - - - - - |\n",
    ".. | . | . | . | . |\n",
    "   | - - - - - - - |\n",
    "15 | 0 | 0 | 0 | 0 |\n",
    "   .---------------.\n",
    "'''"
   ]
  },
  {
   "cell_type": "markdown",
   "metadata": {},
   "source": [
    "The Q-table for our case is shown in the drawing above.\n",
    "* it will have **4 columns** representing possible actions (U for up, D for down, L for left, R for right) & **16 rows** representing all states for this environment\n",
    "* the Q-table is **initialized with zeros** at start of training\n",
    "\n",
    "#### estimation ⏳\n",
    "We will use the equation below to estimate the Q-values for the table scenario of Q-learning. This equation is just rewritten from the earlier introduced definition of Q-learning. It somehow expresses the learning process by the following observation. The first term on the right-hand side, is the reduced learning rate (1 - α) multiplied by the old Q-value (current knowledge). Then, this is added to the learning rate (α) multiplied by the learned value (new knowledge). The learned value is the last term in parenthesis on the right-hand side, that contains rewards (R) and discounted best actions for the new (observed) state."
   ]
  },
  {
   "cell_type": "markdown",
   "metadata": {},
   "source": [
    "<img src=\"img/algo-estimation.png\" alt=\"Drawing\" align=\"left\" style=\"width: 650px;\"/>"
   ]
  },
  {
   "cell_type": "markdown",
   "metadata": {},
   "source": [
    "* the **learning rate (α) can take values between 0 to 1**, where value of one means an agent tries to learn everything (exploration by ignoring prior knowledge) & value of zero means an agent learns nothing (exploitation of prior knowledge)\n",
    "* the **discount factor (ɣ) can take values between 0 to 1**, where value of one means it is considering only long-term rewards (an agent is farsighted) & value of zero means it is considering only the current rewards (an agent is nearsighted)\n",
    "\n",
    "### Bandit 🔫 🤠 🐴\n",
    "We will create an agent that **chooses actions** as if it were a **multiarmed bandit**. It is a famous problem from probability theory that was used to address decisions of gamblers playing slot machines in casinos. Here, tt can help us to address the exploration-exploitation dilemma in RL. This bandit will choose actions from supplied Q-values for a given state.\n",
    "* the bandit will have **4 arms**, since we have 4 actions to choose at each state\n",
    "* we will use the **epsilon-greedy** strategy for the bandit, i.e. our agent will randomly choose actions by flipping a coin so as to either go explore or exploit the environment\n",
    "* the **epsilon can take values between 0 to 1**, where 0 means an agent will do no exploration whatsoever (100% exploitation) and 1 is all about exploration (0% exploitation)\n",
    "\n",
    "## 3) Code 💻\n",
    "We will **train** the Q-learning for certain amount of episodes in the environment and then try to **play** the game with learned Q-values by training.\n",
    "\n",
    "### training 🏋️‍ \n",
    "> _... let's train the algorithm to solve the environment_\n",
    "\n",
    "_... load the Python **packages**_"
   ]
  },
  {
   "cell_type": "code",
   "execution_count": 1,
   "metadata": {},
   "outputs": [],
   "source": [
    "import gym\n",
    "import mxnet as mx\n",
    "import matplotlib.pyplot as plt\n",
    "import random\n",
    "from time import time"
   ]
  },
  {
   "cell_type": "markdown",
   "metadata": {},
   "source": [
    "_... set the **hyperparameters** for the model_"
   ]
  },
  {
   "cell_type": "code",
   "execution_count": 2,
   "metadata": {},
   "outputs": [],
   "source": [
    "EPISODES = 2000\n",
    "STEPS = 100\n",
    "BANDIT_ARMS = 4\n",
    "BANDIT_TRAINING = True\n",
    "EPSILON = 1 # setting the agent for exploration only -> try to learn the environment\n",
    "ALPHA = 0.8\n",
    "GAMMA = 0.95"
   ]
  },
  {
   "cell_type": "markdown",
   "metadata": {},
   "source": [
    "_... load the test environment of **frozen lake**_ & get its possible number of _**states and actions**_"
   ]
  },
  {
   "cell_type": "code",
   "execution_count": 3,
   "metadata": {},
   "outputs": [],
   "source": [
    "env = gym.make('FrozenLake-v0')\n",
    "states = env.observation_space.n\n",
    "actions = env.action_space.n"
   ]
  },
  {
   "cell_type": "markdown",
   "metadata": {},
   "source": [
    "_... create the **Q-table**_"
   ]
  },
  {
   "cell_type": "code",
   "execution_count": 4,
   "metadata": {},
   "outputs": [],
   "source": [
    "# -> make the Q-table with the same dimensions as the test environment & initialize it with zero Q-values\n",
    "Q = mx.nd.zeros(shape=(states, actions), ctx=mx.cpu(), dtype='float32')"
   ]
  },
  {
   "cell_type": "markdown",
   "metadata": {},
   "source": [
    "_... define the **epsilon-greedy bandit**_"
   ]
  },
  {
   "cell_type": "code",
   "execution_count": 5,
   "metadata": {},
   "outputs": [],
   "source": [
    "def run_epsilon_greedy_bandit(arm_rewards, arms, training, epsilon, episode):\n",
    "    # check if bandit is used for training\n",
    "    if training:\n",
    "        # -> start with the full exploration and slowly reduce it as this algorithm learns with each training episode\n",
    "        epsilon = mx.nd.exp(data=mx.nd.array([-0.01 * episode]))\n",
    "    \n",
    "    # flip the coin (randomly select the number between 0 to 1)\n",
    "    random_number = random.random()\n",
    "\n",
    "    # select the arm\n",
    "    if random_number > epsilon:\n",
    "        # Exploit\n",
    "        # -> find arms with highest rewards\n",
    "        max_reward_arms = [i for i, e in enumerate(arm_rewards) if e == max(arm_rewards)]\n",
    "        # -> select the best arm\n",
    "        if len(max_reward_arms) == 1:\n",
    "            # get the best arm\n",
    "            arm = max_reward_arms[0]\n",
    "        else:\n",
    "            # randomly choose an arm from the best arms\n",
    "            arm = random.choice(max_reward_arms)\n",
    "    else:\n",
    "        # Explore\n",
    "        # -> randomly choose an arm\n",
    "        arm = random.randrange(arms)\n",
    "        \n",
    "    return arm"
   ]
  },
  {
   "cell_type": "markdown",
   "metadata": {},
   "source": [
    "_... run the **Q-learning** for the test environment_"
   ]
  },
  {
   "cell_type": "code",
   "execution_count": 6,
   "metadata": {},
   "outputs": [],
   "source": [
    "# log the training start\n",
    "training_start = time()\n",
    "\n",
    "# store the training progress of this algorithm for each episode\n",
    "episode_rewards = []\n",
    "episode_steps = []\n",
    "\n",
    "# solve the environment over certain amount of episodes\n",
    "for episode in range(EPISODES):\n",
    "    # reset the environment, rewards, and steps for the new episode\n",
    "    s = env.reset()\n",
    "    episode_reward = 0\n",
    "    step = 0\n",
    "    \n",
    "    # find the solution over certain amount of attempts (steps in each episode)\n",
    "    while step < STEPS:\n",
    "        # select the action by running the multiarmed bandit with epsilon-greedy strategy\n",
    "        a = run_epsilon_greedy_bandit(Q[s, :], BANDIT_ARMS, BANDIT_TRAINING, EPSILON, episode)\n",
    "        \n",
    "        # enter the environment and get the experience from it by performing there a specific action\n",
    "        # -> get the observation (new state), reward, done (success/failure), and information from this environment\n",
    "        observation, reward, done, info = env.step(a)\n",
    "\n",
    "        # update the Q-values for the current state with the experience from this environment \n",
    "        Q[s, a] = Q[s, a] + ALPHA * (reward + GAMMA * mx.nd.max(Q[observation, :]) - Q[s, a])\n",
    "\n",
    "        # add the reward to others during this episode\n",
    "        episode_reward += reward\n",
    "        \n",
    "        # change the state to the observed state for the next iteration\n",
    "        s = observation\n",
    "\n",
    "        # check if the environment has been exited\n",
    "        if done:\n",
    "            # -> append the collected rewards & number of steps in this episode to training progress     \n",
    "            episode_rewards.append(episode_reward)\n",
    "            episode_steps.append(step)\n",
    "            # -> quit the episode\n",
    "            break\n",
    "\n",
    "        # continue looping\n",
    "        step += 1\n",
    "\n",
    "# log the training end\n",
    "training_end = time()"
   ]
  },
  {
   "cell_type": "markdown",
   "metadata": {},
   "source": [
    "_... print the **final Q-values**_"
   ]
  },
  {
   "cell_type": "code",
   "execution_count": 7,
   "metadata": {},
   "outputs": [
    {
     "name": "stdout",
     "output_type": "stream",
     "text": [
      "trained Q-values \n",
      "[[1.79598913e-01 1.54694039e-02 2.25188620e-02 2.09673196e-02]\n",
      " [6.58146292e-03 4.87169437e-03 3.93946655e-03 1.95556760e-01]\n",
      " [2.14494718e-03 3.14381020e-03 3.11068678e-03 1.20347328e-01]\n",
      " [2.12319940e-03 2.80981418e-03 2.95142923e-03 5.73039055e-02]\n",
      " [3.38882297e-01 1.12175941e-02 3.08078807e-03 2.16190070e-02]\n",
      " [0.00000000e+00 0.00000000e+00 0.00000000e+00 0.00000000e+00]\n",
      " [3.09232920e-02 1.17122145e-05 4.72419924e-05 1.42741010e-05]\n",
      " [0.00000000e+00 0.00000000e+00 0.00000000e+00 0.00000000e+00]\n",
      " [8.03123787e-03 6.84876228e-03 3.71048320e-03 5.25624394e-01]\n",
      " [5.70514053e-03 6.36591673e-01 1.75280031e-03 3.54621094e-03]\n",
      " [4.88883197e-01 7.17768213e-04 9.19382437e-04 6.79788878e-04]\n",
      " [0.00000000e+00 0.00000000e+00 0.00000000e+00 0.00000000e+00]\n",
      " [0.00000000e+00 0.00000000e+00 0.00000000e+00 0.00000000e+00]\n",
      " [7.64733367e-03 3.44705731e-02 2.24181280e-01 7.66693652e-02]\n",
      " [1.92024857e-02 8.91893387e-01 1.20218888e-01 1.01679184e-01]\n",
      " [0.00000000e+00 0.00000000e+00 0.00000000e+00 0.00000000e+00]]\n",
      "<NDArray 16x4 @cpu(0)>\n"
     ]
    }
   ],
   "source": [
    "print(\"trained Q-values\", Q)"
   ]
  },
  {
   "cell_type": "markdown",
   "metadata": {},
   "source": [
    "_... print the **training progress** of the algorithm_"
   ]
  },
  {
   "cell_type": "code",
   "execution_count": 8,
   "metadata": {},
   "outputs": [
    {
     "name": "stdout",
     "output_type": "stream",
     "text": [
      "\n",
      "This environment has been solved 56.25 % of times over 2000 episodes within 137 seconds!\n"
     ]
    },
    {
     "data": {
      "image/png": "[encoded data removed]",
      "text/plain": [
       "<Figure size 432x288 with 2 Axes>"
      ]
     },
     "metadata": {},
     "output_type": "display_data"
    }
   ],
   "source": [
    "# show the success rate for solving the environment & elapsed training time\n",
    "success_rate = round((sum(episode_rewards) / EPISODES) * 100, 2)\n",
    "elapsed_training_time = int(training_end - training_start)\n",
    "print(\"\\nThis environment has been solved\", str(success_rate), \"% of times over\",  str(EPISODES), \"episodes within\", str(elapsed_training_time), \"seconds!\")\n",
    "\n",
    "# plot the rewards and number of steps over all training episodes\n",
    "fig = plt.figure()\n",
    "ax1 = fig.add_subplot(111)\n",
    "ax1.plot(episode_rewards, '-g', label = 'reward')\n",
    "ax1.set_yticks([0,1])\n",
    "ax2 = ax1.twinx()\n",
    "ax2.plot(episode_steps, '+r', label = 'step')\n",
    "ax1.set_xlabel(\"episode\")\n",
    "ax1.set_ylabel(\"reward\")\n",
    "ax2.set_ylabel(\"step\")\n",
    "ax1.legend(loc=2)\n",
    "ax2.legend(loc=1)\n",
    "plt.title(\"Training Progress\")\n",
    "plt.show()"
   ]
  },
  {
   "cell_type": "markdown",
   "metadata": {},
   "source": [
    ">_... the training progress of this algorithm can be seen from the figure above, where each episode finishes either with value 0 or 1 as a reward -> this means that our agent 🐹 fell into the ice hole 🕳 or found those peanuts 🥜, respectively_\n",
    "> * the **algorithm is able to solve the environment more often as it learns** and starts exploiting its own knowledge more with increasing episodes\n",
    "> * with increasing episodes, **our agent also survives longer in the environment** without falling into the ice hole and eventually reaches the reward... how efficiently it reaches the goal is questionable though, since the ice is slippery and not being dead under it is probably important too :)"
   ]
  },
  {
   "cell_type": "markdown",
   "metadata": {},
   "source": [
    "### playing 🎮\n",
    "> _... let's play the game to see how our agent 🐹 solves the environment with the knowledge obtained from training, i.e. with the trained Q-values_"
   ]
  },
  {
   "cell_type": "markdown",
   "metadata": {},
   "source": [
    "_... set the **hyperparameters for the game**_"
   ]
  },
  {
   "cell_type": "code",
   "execution_count": 9,
   "metadata": {},
   "outputs": [],
   "source": [
    "GAME_EPISODES = 10\n",
    "BANDIT_TRAINING = False\n",
    "EPSILON = 0 # setting the agent for pure exploitation -> use only learned Q values from training"
   ]
  },
  {
   "cell_type": "markdown",
   "metadata": {},
   "source": [
    "_... let's **play the game**_"
   ]
  },
  {
   "cell_type": "code",
   "execution_count": 10,
   "metadata": {},
   "outputs": [
    {
     "name": "stdout",
     "output_type": "stream",
     "text": [
      "\n",
      "-----------------------------\n",
      "61 steps in episode 0\n",
      "The last action & state was:\n",
      "  (Down)\n",
      "SFFF\n",
      "FHFH\n",
      "FFFH\n",
      "HFF\u001b[41mG\u001b[0m\n",
      "-----------------------------\n",
      "\n",
      "-----------------------------\n",
      "66 steps in episode 1\n",
      "The last action & state was:\n",
      "  (Down)\n",
      "SFFF\n",
      "FHFH\n",
      "FFFH\n",
      "HFF\u001b[41mG\u001b[0m\n",
      "-----------------------------\n",
      "\n",
      "-----------------------------\n",
      "73 steps in episode 2\n",
      "The last action & state was:\n",
      "  (Down)\n",
      "SFFF\n",
      "FHFH\n",
      "FFFH\n",
      "HFF\u001b[41mG\u001b[0m\n",
      "-----------------------------\n",
      "\n",
      "-----------------------------\n",
      "99 steps in episode 3\n",
      "The last action & state was:\n",
      "  (Left)\n",
      "SFFF\n",
      "\u001b[41mF\u001b[0mHFH\n",
      "FFFH\n",
      "HFFG\n",
      "-----------------------------\n",
      "\n",
      "-----------------------------\n",
      "46 steps in episode 4\n",
      "The last action & state was:\n",
      "  (Down)\n",
      "SFFF\n",
      "FHFH\n",
      "FFFH\n",
      "HFF\u001b[41mG\u001b[0m\n",
      "-----------------------------\n",
      "\n",
      "-----------------------------\n",
      "49 steps in episode 5\n",
      "The last action & state was:\n",
      "  (Down)\n",
      "SFFF\n",
      "FHFH\n",
      "FFFH\n",
      "HFF\u001b[41mG\u001b[0m\n",
      "-----------------------------\n",
      "\n",
      "-----------------------------\n",
      "62 steps in episode 6\n",
      "The last action & state was:\n",
      "  (Down)\n",
      "SFFF\n",
      "FHFH\n",
      "FFFH\n",
      "HFF\u001b[41mG\u001b[0m\n",
      "-----------------------------\n",
      "\n",
      "-----------------------------\n",
      "28 steps in episode 7\n",
      "The last action & state was:\n",
      "  (Down)\n",
      "SFFF\n",
      "FHFH\n",
      "FFFH\n",
      "HFF\u001b[41mG\u001b[0m\n",
      "-----------------------------\n",
      "\n",
      "-----------------------------\n",
      "26 steps in episode 8\n",
      "The last action & state was:\n",
      "  (Down)\n",
      "SFFF\n",
      "FHFH\n",
      "FFFH\n",
      "HFF\u001b[41mG\u001b[0m\n",
      "-----------------------------\n",
      "\n",
      "-----------------------------\n",
      "99 steps in episode 9\n",
      "The last action & state was:\n",
      "  (Up)\n",
      "SFFF\n",
      "FHFH\n",
      "\u001b[41mF\u001b[0mFFH\n",
      "HFFG\n",
      "-----------------------------\n"
     ]
    }
   ],
   "source": [
    "for episode in range(GAME_EPISODES):\n",
    "    s = env.reset()\n",
    "    step = 0\n",
    "    while step < STEPS:\n",
    "        # Take the action (index) that have the maximum expected future reward given that state\n",
    "        a = run_epsilon_greedy_bandit(Q[s, :], BANDIT_ARMS, BANDIT_TRAINING, EPSILON, episode)\n",
    "        \n",
    "        # enter the environemnt and get the experience from it\n",
    "        observation, reward, done, info = env.step(a)\n",
    "\n",
    "        # change the state to observed state for the next iteration\n",
    "        s = observation\n",
    "\n",
    "        # check if the environment has been exited\n",
    "        if done:\n",
    "            # print stats of game (episode, steps, and the last agent's state)\n",
    "            print(\"\\n-----------------------------\")\n",
    "            print(step, \"steps in episode\", episode)\n",
    "            print(\"The last action & state was:\")\n",
    "            env.render()\n",
    "            print(\"-----------------------------\")\n",
    "            # - quit the episode\n",
    "            break\n",
    "\n",
    "        # continue looping\n",
    "        step += 1"
   ]
  },
  {
   "cell_type": "markdown",
   "metadata": {},
   "source": [
    "<img src=\"img/conclusions-wall-e.png\" alt=\"Drawing\" style=\"width: 500px;\"/>"
   ]
  },
  {
   "cell_type": "markdown",
   "metadata": {},
   "source": [
    "## Conclusions 🤔\n",
    "We have built a simple table model for Q-learning solving an RL problem of a frozen lake. As seen from running the code, our model learns during training and then takes advantage of such prior experience when solving the environment during playing. You can tweak the hyperparameters for learning rate & discount factor, or even implement different bandit strategies for choosing actions to see if it learns better during training."
   ]
  },
  {
   "cell_type": "markdown",
   "metadata": {},
   "source": [
    "## References\n",
    "* R. S. Sutton and A. G. Barto: \"Reinforcement Learning: An Introduction\", 2nd edition, A Bradford Book, 2017"
   ]
  }
 ],
 "metadata": {
  "kernelspec": {
   "display_name": "Python 3",
   "language": "python",
   "name": "python3"
  },
  "language_info": {
   "codemirror_mode": {
    "name": "ipython",
    "version": 3
   },
   "file_extension": ".py",
   "mimetype": "text/x-python",
   "name": "python",
   "nbconvert_exporter": "python",
   "pygments_lexer": "ipython3",
   "version": "3.6.4"
  }
 },
 "nbformat": 4,
 "nbformat_minor": 2
}
